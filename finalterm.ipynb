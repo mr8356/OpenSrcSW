{
 "cells": [
  {
   "cell_type": "code",
   "execution_count": 11,
   "metadata": {},
   "outputs": [
    {
     "ename": "IndentationError",
     "evalue": "expected an indented block (488315922.py, line 37)",
     "output_type": "error",
     "traceback": [
      "\u001b[0;36m  Input \u001b[0;32mIn [11]\u001b[0;36m\u001b[0m\n\u001b[0;31m    plt.pie()\u001b[0m\n\u001b[0m    ^\u001b[0m\n\u001b[0;31mIndentationError\u001b[0m\u001b[0;31m:\u001b[0m expected an indented block\n"
     ]
    }
   ],
   "source": [
    "import csv\n",
    "import matplotlib.pyplot as plt\n",
    "dict = {}\n",
    "dict2 = {}\n",
    "f = open(\"country_vaccinations.csv\" , 'r' , encoding=\"cp949\")\n",
    "data = csv.reader(f)\n",
    "next(data)\n",
    "max = ['Maxdate' , 0]\n",
    "min = ['Mindate' , 9999999999]\n",
    "for r in data:\n",
    "    if(r[7]==''):\n",
    "        daily=0\n",
    "    else:\n",
    "        daily  = float(r[7])\n",
    "    contry = r[0]\n",
    "    if daily>=max[1]:\n",
    "        max = [r[2] , daily]\n",
    "    if daily<=min[1]:\n",
    "        min = [r[2] , daily]\n",
    "    for v in r[-3].split(','):\n",
    "        if v in dict:\n",
    "            if not (contry in dict[v]):\n",
    "                dict[v].append(contry)\n",
    "        else:\n",
    "            dict[v] = []\n",
    "\n",
    "keyList=[]\n",
    "valList = []\n",
    "for k in dict.keys():\n",
    "    valList.append(len(dict[k]))\n",
    "    keyList.append(k)\n",
    "sortList = valList[:]\n",
    "sortList.sort(reverse = True)\n",
    "other = sortList[::-1][0:10]\n",
    "\n",
    "col = []\n",
    "for a in sortList:\n",
    "    ind = valList.index(a)\n",
    "    k = keyList[ind]\n",
    "    \n",
    "\n",
    "\n",
    "print(\"most daily vacc :\" , max[0] ,\"\\nlest daily vacc : \", min[0])\n"
   ]
  },
  {
   "cell_type": "markdown",
   "metadata": {},
   "source": [
    "country , iso_code , date , total_vaccinations , people_vaccinated,people_fully_vaccinated , daily_vaccinations_raw , daily_vaccinations,total_vaccinations_per_hundred,people_vaccinated_per_hundred,people_fully_vaccinated_per_hundred,daily_vaccinations_per_million,vaccines , source_name , source_website\n",
    "\n",
    "0 country\n",
    "2 date\n",
    "7 daily_vaccinations\n",
    "-3 vaccines"
   ]
  }
 ],
 "metadata": {
  "kernelspec": {
   "display_name": "Python 3.9.1 64-bit",
   "language": "python",
   "name": "python3"
  },
  "language_info": {
   "codemirror_mode": {
    "name": "ipython",
    "version": 3
   },
   "file_extension": ".py",
   "mimetype": "text/x-python",
   "name": "python",
   "nbconvert_exporter": "python",
   "pygments_lexer": "ipython3",
   "version": "3.9.1"
  },
  "orig_nbformat": 4,
  "vscode": {
   "interpreter": {
    "hash": "aee8b7b246df8f9039afb4144a1f6fd8d2ca17a180786b69acc140d282b71a49"
   }
  }
 },
 "nbformat": 4,
 "nbformat_minor": 2
}
