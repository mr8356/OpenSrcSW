{
 "cells": [
  {
   "cell_type": "code",
   "execution_count": null,
   "metadata": {},
   "outputs": [],
   "source": [
    "#실습1\n",
    "in_file = open('README.txt' , 'r' , encoding = \"utf-8\")\n",
    "data = in_file.read()\n",
    "list = data.strip().split()\n",
    "dict = {}\n",
    "for w in list:\n",
    "    if w in dict:\n",
    "        dict[w]+=1\n",
    "    else:\n",
    "        dict[w]=1\n",
    "for d in dict:\n",
    "    print(d ,' : ' , dict[d])\n"
   ]
  },
  {
   "cell_type": "code",
   "execution_count": null,
   "metadata": {},
   "outputs": [],
   "source": [
    "#실습2\n",
    "\n",
    "#point 객체\n",
    "class Point:\n",
    "    def __init__(self , x=0, y=0):\n",
    "        self.x = x\n",
    "        self.y = y\n",
    "\n",
    "    def move (self , dx , dy):\n",
    "        self.x+=dx\n",
    "        self.y+=dy\n",
    "\n",
    "    def show(self):\n",
    "        print('(',self.x,',',self.y,')')\n",
    "\n",
    "\n",
    "#box객체\n",
    "class Box:\n",
    "    def __init__(self , p1, p2):\n",
    "            self.p1 = p1\n",
    "            self.p2 = p2\n",
    "    \n",
    "    def move(self , dx , dy):\n",
    "        self.p1.move(dx , dy)\n",
    "        self.p2.move(dx,dy)\n",
    "    \n",
    "    def show(self):\n",
    "        self.p1.show()\n",
    "        self.p2.show()\n",
    "\n",
    "p1 = Point(1,2)\n",
    "p2 = Point(2,3)\n",
    "p1.show()\n",
    "p2.show()\n",
    "b= Box(p1,p2)\n",
    "b.show()\n",
    "b.move(10,10)\n",
    "b.show()\n",
    "\n"
   ]
  }
 ],
 "metadata": {
  "interpreter": {
   "hash": "aee8b7b246df8f9039afb4144a1f6fd8d2ca17a180786b69acc140d282b71a49"
  },
  "kernelspec": {
   "display_name": "Python 3.9.1 64-bit",
   "language": "python",
   "name": "python3"
  },
  "language_info": {
   "codemirror_mode": {
    "name": "ipython",
    "version": 3
   },
   "file_extension": ".py",
   "mimetype": "text/x-python",
   "name": "python",
   "nbconvert_exporter": "python",
   "pygments_lexer": "ipython3",
   "version": "3.9.1"
  },
  "orig_nbformat": 4
 },
 "nbformat": 4,
 "nbformat_minor": 2
}
