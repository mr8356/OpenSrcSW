{
 "cells": [
  {
   "cell_type": "code",
   "execution_count": 2,
   "metadata": {},
   "outputs": [
    {
     "name": "stdout",
     "output_type": "stream",
     "text": [
      "죽는 날까지 하늘을 우러러\n",
      "한 점 부끄럼이 없기를,\n",
      "잎새에 이는 바람에도\n",
      "너는 괴로워했다.\n",
      "별을 노래하는 마음으로\n",
      "모든 죽어가는 것을 사랑해야지\n",
      "그리고 너한테 주어진 길을\n",
      "걸어가야겠다.\n",
      "오늘 밤에도 별이 바람에 스치운다.\n"
     ]
    }
   ],
   "source": [
    "#실습 1\n",
    "str = \"\"\"   죽는 날까지 하늘을 우러러\n",
    "한 점 부끄럼이 없기를,\n",
    "잎새에 이는 바람에도\n",
    "나는 괴로워했다.\n",
    "별을 노래하는 마음으로\n",
    "모든 죽어가는 것을 사랑해야지\n",
    "그리고 나한테 주어진 길을\n",
    "걸어가야겠다.\n",
    "오늘 밤에도 별이 바람에 스치운다.   \"\"\"\n",
    "str = str.strip().replace(\"나\" , \"너\")\n",
    "print(str)"
   ]
  },
  {
   "cell_type": "code",
   "execution_count": 4,
   "metadata": {},
   "outputs": [
    {
     "name": "stdout",
     "output_type": "stream",
     "text": [
      "Max= 456\n"
     ]
    }
   ],
   "source": [
    "#실습 2\n",
    "str = input(\"Numbers? \")\n",
    "list = str.split()\n",
    "Max = int(list[0])\n",
    "for i in list:\n",
    "    if int(i)>Max: Max = int(i)\n",
    "print(\"Max=\" , Max)"
   ]
  },
  {
   "cell_type": "code",
   "execution_count": 6,
   "metadata": {},
   "outputs": [
    {
     "name": "stdout",
     "output_type": "stream",
     "text": [
      "\" abc def \" is encoded into \" efg!bcd \"\n",
      "\" efg!bcd \" is decoded into \" abc def \"\n"
     ]
    }
   ],
   "source": [
    "#실습 3 . 암호와,복호화\n",
    "def conv_asc(str , num):\n",
    "    temp_str = \"\"\n",
    "    for i in str:\n",
    "        code = ord(i)\n",
    "        temp_str += chr(code+num)\n",
    "    return temp_str\n",
    "\n",
    "def enc(str , key):\n",
    "    list = str.split()\n",
    "    temp_str= \" \".join(list[::-1])\n",
    "    return conv_asc(temp_str , key)\n",
    "\n",
    "def dec(str , key):\n",
    "    str=conv_asc(str, key*-1)\n",
    "    list = str.split()\n",
    "    temp_str = \" \".join(list[::-1])\n",
    "    return temp_str\n",
    "\n",
    "\n",
    "str = \"abc def\"\n",
    "enc_str = enc(str , 1)\n",
    "print(\"\\\"\",str,\"\\\" is encoded into \\\"\",enc_str,\"\\\"\")\n",
    "dec_str = dec(enc_str , 1)\n",
    "print(\"\\\"\",enc_str,\"\\\" is decoded into \\\"\",dec_str,\"\\\"\")"
   ]
  }
 ],
 "metadata": {
  "interpreter": {
   "hash": "aee8b7b246df8f9039afb4144a1f6fd8d2ca17a180786b69acc140d282b71a49"
  },
  "kernelspec": {
   "display_name": "Python 3.9.1 64-bit",
   "language": "python",
   "name": "python3"
  },
  "language_info": {
   "codemirror_mode": {
    "name": "ipython",
    "version": 3
   },
   "file_extension": ".py",
   "mimetype": "text/x-python",
   "name": "python",
   "nbconvert_exporter": "python",
   "pygments_lexer": "ipython3",
   "version": "3.9.1"
  },
  "orig_nbformat": 4
 },
 "nbformat": 4,
 "nbformat_minor": 2
}
