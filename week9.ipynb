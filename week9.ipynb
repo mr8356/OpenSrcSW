{
 "cells": [
  {
   "cell_type": "code",
   "execution_count": 11,
   "metadata": {},
   "outputs": [
    {
     "data": {
      "text/plain": [
       "(7, 36)"
      ]
     },
     "execution_count": 11,
     "metadata": {},
     "output_type": "execute_result"
    }
   ],
   "source": [
    "#실습문제 1번\n",
    "min  = 456\n",
    "hour = int(min/60)\n",
    "min %= 60\n",
    "hour , min"
   ]
  },
  {
   "cell_type": "code",
   "execution_count": 12,
   "metadata": {},
   "outputs": [
    {
     "name": "stdout",
     "output_type": "stream",
     "text": [
      "김철수 2.8\n"
     ]
    }
   ],
   "source": [
    "#실습문제 2번\n",
    "dict = {\"홍길동\":3.4 , \"임꺽정\" : 4.0 , \"김철수\" : 2.8 , \"이영희\":3.9}\n",
    "key = dict.keys()\n",
    "array = list(key)\n",
    "array.sort()\n",
    "value = dict.get(array[0])\n",
    "print(array[0] , value)"
   ]
  }
 ],
 "metadata": {
  "interpreter": {
   "hash": "aee8b7b246df8f9039afb4144a1f6fd8d2ca17a180786b69acc140d282b71a49"
  },
  "kernelspec": {
   "display_name": "Python 3.9.1 64-bit",
   "language": "python",
   "name": "python3"
  },
  "language_info": {
   "codemirror_mode": {
    "name": "ipython",
    "version": 3
   },
   "file_extension": ".py",
   "mimetype": "text/x-python",
   "name": "python",
   "nbconvert_exporter": "python",
   "pygments_lexer": "ipython3",
   "version": "3.9.1"
  },
  "orig_nbformat": 4
 },
 "nbformat": 4,
 "nbformat_minor": 2
}
