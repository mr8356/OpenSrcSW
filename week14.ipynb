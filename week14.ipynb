{
 "cells": [
  {
   "cell_type": "code",
   "execution_count": 58,
   "metadata": {},
   "outputs": [
    {
     "name": "stdout",
     "output_type": "stream",
     "text": [
      "         unit price  number\n",
      "store 1        1000      25\n",
      "store 2         280     120\n",
      "store 3         900      30\n",
      "         unit price  number  total price\n",
      "store 1        1000      25        25000\n",
      "store 2         280     120        33600\n",
      "store 3         900      30        27000\n"
     ]
    },
    {
     "data": {
      "text/html": [
       "<div>\n",
       "<style scoped>\n",
       "    .dataframe tbody tr th:only-of-type {\n",
       "        vertical-align: middle;\n",
       "    }\n",
       "\n",
       "    .dataframe tbody tr th {\n",
       "        vertical-align: top;\n",
       "    }\n",
       "\n",
       "    .dataframe thead th {\n",
       "        text-align: right;\n",
       "    }\n",
       "</style>\n",
       "<table border=\"1\" class=\"dataframe\">\n",
       "  <thead>\n",
       "    <tr style=\"text-align: right;\">\n",
       "      <th></th>\n",
       "      <th>unit price</th>\n",
       "      <th>number</th>\n",
       "      <th>total price</th>\n",
       "    </tr>\n",
       "  </thead>\n",
       "  <tbody>\n",
       "    <tr>\n",
       "      <th>store 2</th>\n",
       "      <td>280</td>\n",
       "      <td>120</td>\n",
       "      <td>33600</td>\n",
       "    </tr>\n",
       "  </tbody>\n",
       "</table>\n",
       "</div>"
      ],
      "text/plain": [
       "         unit price  number  total price\n",
       "store 2         280     120        33600"
      ]
     },
     "execution_count": 58,
     "metadata": {},
     "output_type": "execute_result"
    }
   ],
   "source": [
    "import pandas as pd\n",
    "import numpy as np\n",
    "\n",
    "# 객체 수 선언!#########\n",
    "number_of_stores = 3\n",
    "#####################\n",
    "\n",
    "rows = []\n",
    "col = [\"unit price\" , \"number\"]\n",
    "#make columns\n",
    "for i in range(1,number_of_stores+1):\n",
    "    rows.append((\"store \"+str(i)))\n",
    "\n",
    "df = pd.DataFrame([[1000 , 25],[280 , 120],[900 , 30]] , rows,col)\n",
    "print(df)\n",
    "df['total price'] = df['unit price']*df['number']\n",
    "print(df)\n",
    "array = df['total price'].array\n",
    "max=0\n",
    "for price in array:\n",
    "    if(price>max):\n",
    "        max=price\n",
    "\n",
    "#특정열 마스킹\n",
    "df[df['total price']>=max]\n",
    "\n",
    "\n"
   ]
  }
 ],
 "metadata": {
  "interpreter": {
   "hash": "aee8b7b246df8f9039afb4144a1f6fd8d2ca17a180786b69acc140d282b71a49"
  },
  "kernelspec": {
   "display_name": "Python 3.9.1 64-bit",
   "language": "python",
   "name": "python3"
  },
  "language_info": {
   "name": "python",
   "version": "3.9.1"
  },
  "orig_nbformat": 4
 },
 "nbformat": 4,
 "nbformat_minor": 2
}
